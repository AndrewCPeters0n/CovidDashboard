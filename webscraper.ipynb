import requests
from bs4 import BeautifulSoup
import re
import pandas as pd
from datetime import date
from datetime import timedelta

# def print_full(x):
#     pd.set_option('display.max_rows', None)
#     pd.set_option('display.max_columns', None)
#     pd.set_option('display.width', 2000)
#     pd.set_option('display.float_format', '{:20,.2f}'.format)
#     pd.set_option('display.max_colwidth', None)
#     display(x)
#     pd.reset_option('display.max_rows')
#     pd.reset_option('display.max_columns')
#     pd.reset_option('display.width')
#     pd.reset_option('display.float_format')
#     pd.reset_option('display.max_colwidth')
        

source1 = "https://www.worldometers.info/coronavirus/#main_table"
source2 = "https://covid19.who.int/table"

s1_html_data = requests.get(source1)
s2_html_data = requests.get(source2)

s1_parsed_data = BeautifulSoup(s1_html_data.content, 'html5lib')
s2_parsed_data = BeautifulSoup(s2_html_data.content, 'html5lib')

s1_data_2yday = s1_parsed_data.find('table', attrs = {'id':'main_table_countries_yesterday'}).find_all(lambda foo: foo.name == 'tr' and foo.get('style') == '')
s1_data2yday_cols = s1_parsed_data.find('table', attrs = {'id':'main_table_countries_yesterday'}).find('thead')

wspace = re.compile(r'\s+')

colstring = ''

for i in s1_data2yday_cols:
    colstring += i.text.strip()

colstring = re.sub(r'(/)\s+(1M pop)', '/1M pop', colstring)
colstring = re.sub(r'ppl1', 'ppl\\n1', colstring)
colstring = re.sub(r'\s{2,}', '_', colstring)
colstring = re.sub(r'\n+', '_', colstring)

cols = colstring.split('_')

outstring = ''
data = []
clean_data = []

for i in s1_data_2yday:
    for j in i:
        if bool(wspace.match(j.text)):
            continue
        outstring += f"{j.text.strip()}_"
    outstring += '\n'

cols.insert(16, 'empty_col')
cols.append('Date')


for line in outstring.splitlines():
    data.append(line.strip('_').replace('+', '').replace(',', '').split('_'))
    
for i in data:
    templist = []
    for j in range(len(i)):
        if j in [0,2,3,4,5,6,7,8,9,0,11,12,13,16,17,18,19,20,21]:
            if i[j] == '':
                templist.append(0)
            else:
                templist.append(i[j])
        else:
            templist.append(i[j])
    templist.append(date.today() - timedelta(days = 1))
    clean_data.append(templist)

 
cd = pd.DataFrame(clean_data, columns = cols)
cd_clean = cd.iloc[:,[1,4,5,11,21,23]]

# print_full(cd_clean)

cd_clean.to_json(r'C:\Users\Kknam\Documents\covid_data.json')
